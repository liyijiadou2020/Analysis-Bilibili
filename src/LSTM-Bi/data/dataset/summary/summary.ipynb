{
 "cells": [
  {
   "cell_type": "code",
   "execution_count": 22,
   "metadata": {
    "pycharm": {
     "name": "#%%\n"
    }
   },
   "outputs": [],
   "source": [
    "from IPython.display import HTML\n",
    "from pyecharts import options as opts\n",
    "from pyecharts.charts import Pie\n",
    "\n",
    "\n",
    "def load_dataset(file_name: str, mood_list: list, dataset_name):\n",
    "    mood_values = []\n",
    "    dataset = {}\n",
    "    total = 0\n",
    "\n",
    "    for mood in mood_list:\n",
    "        dataset[mood] = []\n",
    "\n",
    "    with open(file_name, encoding='UTF-8') as f:\n",
    "        for line in f.readlines():\n",
    "            if line.startswith('#'):\n",
    "                continue\n",
    "            items = line.split(':', 1)\n",
    "            dataset[items[0]].append(items[1])\n",
    "            total += 1\n",
    "        f.close()\n",
    "\n",
    "    for mood in mood_list:\n",
    "        print('{}：{}'.format(mood, len(dataset[mood])))\n",
    "\n",
    "    print('total：{}'.format(total))\n",
    "    print('#' * 40)\n",
    "\n",
    "    for mood in mood_list:\n",
    "        mood_values.append(100 * (len(dataset[mood]) / total))\n",
    "        print('{}：{:.4f}%'.format(mood, 100 * (len(dataset[mood]) / total)))\n",
    "\n",
    "    pie = Pie(init_opts=opts.InitOpts(width=\"100%\", height=\"600px\", bg_color=\"#fff\"))\\\n",
    "        .add(\"\", [list(z) for z in zip(mood_list, mood_values)])\\\n",
    "        .set_global_opts(\n",
    "        title_opts=opts.TitleOpts(\n",
    "            title=dataset_name,\n",
    "            pos_top=\"10\",\n",
    "            pos_left=\"10\",\n",
    "            title_textstyle_opts=opts.TextStyleOpts(color=\"#000\", font_size=28)),\n",
    "        legend_opts=opts.LegendOpts(pos_top=\"15%\", pos_left=\"10\", orient=\"vertical\", textstyle_opts={\"color\": \"black\"}))\\\n",
    "        .set_series_opts(label_opts=opts.LabelOpts(formatter=\"{b}: {c}%\"))\n",
    "\n",
    "    return pie.render_embed()"
   ]
  },
  {
   "cell_type": "markdown",
   "metadata": {
    "pycharm": {
     "name": "#%% md\n"
    }
   },
   "source": [
    "### 🤩Weibo Emotion Corpus 七分类多情感分析\n",
    "\n",
    "2016 The Hong Kong Polytechnic University\t微博语料，标注了7 emotions: like, disgust, happiness, sadness, anger, surprise, fear。\n",
    "- 数据条目：39661条\n",
    "- 论文地址：http://www.lrec-conf.org/proceedings/lrec2016/pdf/515_Paper.pdf\n",
    "- 数据地址：https://github.com/hehuihui1994/emotion_corpus_weibo/blob/master/emotion_corpus_microblog.txt\n",
    "- 文件名称：emotion_corpus_microblog.txt\n",
    "- 文件大小：5.50MB\n",
    "- 来源：香港理工大学\n",
    "\n",
    "> happiness: 9959<br>\n",
    "> disgust: 4876<br>\n",
    "> like: 4540<br>\n",
    "> fear: 661<br>\n",
    "> sadness: 14052<br>\n",
    "> anger: 4562<br>\n",
    "> surprise: 1011<br>"
   ]
  },
  {
   "cell_type": "code",
   "execution_count": 23,
   "metadata": {
    "pycharm": {
     "name": "#%%\n"
    }
   },
   "outputs": [
    {
     "name": "stdout",
     "output_type": "stream",
     "text": [
      "anger：4562\n",
      "disgust：4876\n",
      "happiness：9959\n",
      "like：4540\n",
      "sadness：14052\n",
      "fear：661\n",
      "surprise：1011\n",
      "total：39661\n",
      "########################################\n",
      "anger：11.5025%\n",
      "disgust：12.2942%\n",
      "happiness：25.1103%\n",
      "like：11.4470%\n",
      "sadness：35.4303%\n",
      "fear：1.6666%\n",
      "surprise：2.5491%\n"
     ]
    },
    {
     "data": {
      "text/plain": "<IPython.core.display.HTML object>",
      "text/html": "<!DOCTYPE html>\n<html>\n<head>\n    <meta charset=\"UTF-8\">\n    <title>Awesome-pyecharts</title>\n            <script type=\"text/javascript\" src=\"https://assets.pyecharts.org/assets/echarts.min.js\"></script>\n\n</head>\n<body>\n    <div id=\"d48f5e4f580d4694b51a8c9ced52ae8b\" class=\"chart-container\" style=\"width:100%; height:600px;\"></div>\n    <script>\n        var chart_d48f5e4f580d4694b51a8c9ced52ae8b = echarts.init(\n            document.getElementById('d48f5e4f580d4694b51a8c9ced52ae8b'), 'white', {renderer: 'canvas'});\n        var option_d48f5e4f580d4694b51a8c9ced52ae8b = {\n    \"backgroundColor\": \"#fff\",\n    \"animation\": true,\n    \"animationThreshold\": 2000,\n    \"animationDuration\": 1000,\n    \"animationEasing\": \"cubicOut\",\n    \"animationDelay\": 0,\n    \"animationDurationUpdate\": 300,\n    \"animationEasingUpdate\": \"cubicOut\",\n    \"animationDelayUpdate\": 0,\n    \"color\": [\n        \"#c23531\",\n        \"#2f4554\",\n        \"#61a0a8\",\n        \"#d48265\",\n        \"#749f83\",\n        \"#ca8622\",\n        \"#bda29a\",\n        \"#6e7074\",\n        \"#546570\",\n        \"#c4ccd3\",\n        \"#f05b72\",\n        \"#ef5b9c\",\n        \"#f47920\",\n        \"#905a3d\",\n        \"#fab27b\",\n        \"#2a5caa\",\n        \"#444693\",\n        \"#726930\",\n        \"#b2d235\",\n        \"#6d8346\",\n        \"#ac6767\",\n        \"#1d953f\",\n        \"#6950a1\",\n        \"#918597\"\n    ],\n    \"series\": [\n        {\n            \"type\": \"pie\",\n            \"clockwise\": true,\n            \"data\": [\n                {\n                    \"name\": \"anger\",\n                    \"value\": 11.502483548069891\n                },\n                {\n                    \"name\": \"disgust\",\n                    \"value\": 12.294193288116789\n                },\n                {\n                    \"name\": \"happiness\",\n                    \"value\": 25.110309876200805\n                },\n                {\n                    \"name\": \"like\",\n                    \"value\": 11.447013438894633\n                },\n                {\n                    \"name\": \"sadness\",\n                    \"value\": 35.4302715513981\n                },\n                {\n                    \"name\": \"fear\",\n                    \"value\": 1.6666246438566856\n                },\n                {\n                    \"name\": \"surprise\",\n                    \"value\": 2.5491036534630998\n                }\n            ],\n            \"radius\": [\n                \"0%\",\n                \"75%\"\n            ],\n            \"center\": [\n                \"50%\",\n                \"50%\"\n            ],\n            \"label\": {\n                \"show\": true,\n                \"position\": \"top\",\n                \"margin\": 8,\n                \"formatter\": \"{b}: {c}%\"\n            },\n            \"rippleEffect\": {\n                \"show\": true,\n                \"brushType\": \"stroke\",\n                \"scale\": 2.5,\n                \"period\": 4\n            }\n        }\n    ],\n    \"legend\": [\n        {\n            \"data\": [\n                \"anger\",\n                \"disgust\",\n                \"happiness\",\n                \"like\",\n                \"sadness\",\n                \"fear\",\n                \"surprise\"\n            ],\n            \"selected\": {},\n            \"show\": true,\n            \"left\": \"10\",\n            \"top\": \"15%\",\n            \"orient\": \"vertical\",\n            \"padding\": 5,\n            \"itemGap\": 10,\n            \"itemWidth\": 25,\n            \"itemHeight\": 14,\n            \"textStyle\": {\n                \"color\": \"black\"\n            }\n        }\n    ],\n    \"tooltip\": {\n        \"show\": true,\n        \"trigger\": \"item\",\n        \"triggerOn\": \"mousemove|click\",\n        \"axisPointer\": {\n            \"type\": \"line\"\n        },\n        \"showContent\": true,\n        \"alwaysShowContent\": false,\n        \"showDelay\": 0,\n        \"hideDelay\": 100,\n        \"textStyle\": {\n            \"fontSize\": 14\n        },\n        \"borderWidth\": 0,\n        \"padding\": 5\n    },\n    \"title\": [\n        {\n            \"text\": \"Weibo Emotion Corpus\",\n            \"left\": \"10\",\n            \"top\": \"10\",\n            \"padding\": 5,\n            \"itemGap\": 10,\n            \"textStyle\": {\n                \"color\": \"#000\",\n                \"fontSize\": 28\n            }\n        }\n    ]\n};\n        chart_d48f5e4f580d4694b51a8c9ced52ae8b.setOption(option_d48f5e4f580d4694b51a8c9ced52ae8b);\n            window.addEventListener('resize', function(){\n                chart_d48f5e4f580d4694b51a8c9ced52ae8b.resize();\n            })\n    </script>\n</body>\n</html>\n"
     },
     "execution_count": 23,
     "metadata": {},
     "output_type": "execute_result"
    }
   ],
   "source": [
    "html1 = load_dataset(\"emotion_corpus_microblog.txt\",\n",
    "                     ['anger', 'disgust', 'happiness', 'like', 'sadness', 'fear', 'surprise'],\n",
    "                     \"Weibo Emotion Corpus\")\n",
    "HTML(html1)"
   ]
  },
  {
   "cell_type": "markdown",
   "metadata": {
    "pycharm": {
     "name": "#%% md\n"
    }
   },
   "source": [
    "### 🧐simplifyweibo_8_moods 八分类多情感分析\n",
    "\n",
    "八分类情感分类数据集，详细带None\n",
    "- 数据条目：26462条数据\n",
    "- 文件名称：simplifyweibo_8_moods.txt\n",
    "- 文件大小：2.20MB\n",
    "- 来源：CSDN\n",
    "\n",
    "> happiness：1456<br>\n",
    "> disgust：2008<br>\n",
    "> like：2446<br>\n",
    "> fear：230<br>\n",
    "> sadness：1676<br>\n",
    "> anger：1436<br>\n",
    "> surprise：620<br>\n",
    "> none：16590<br>"
   ]
  },
  {
   "cell_type": "code",
   "execution_count": 24,
   "metadata": {
    "pycharm": {
     "name": "#%%\n"
    }
   },
   "outputs": [
    {
     "name": "stdout",
     "output_type": "stream",
     "text": [
      "anger：1436\n",
      "disgust：2008\n",
      "happiness：1456\n",
      "like：2446\n",
      "sadness：1676\n",
      "fear：230\n",
      "surprise：620\n",
      "none：16590\n",
      "total：26462\n",
      "########################################\n",
      "anger：5.4266%\n",
      "disgust：7.5882%\n",
      "happiness：5.5022%\n",
      "like：9.2434%\n",
      "sadness：6.3336%\n",
      "fear：0.8692%\n",
      "surprise：2.3430%\n",
      "none：62.6937%\n"
     ]
    },
    {
     "data": {
      "text/plain": "<IPython.core.display.HTML object>",
      "text/html": "<!DOCTYPE html>\n<html>\n<head>\n    <meta charset=\"UTF-8\">\n    <title>Awesome-pyecharts</title>\n            <script type=\"text/javascript\" src=\"https://assets.pyecharts.org/assets/echarts.min.js\"></script>\n\n</head>\n<body>\n    <div id=\"3180375dc11d4655af21e735a02c42c6\" class=\"chart-container\" style=\"width:100%; height:600px;\"></div>\n    <script>\n        var chart_3180375dc11d4655af21e735a02c42c6 = echarts.init(\n            document.getElementById('3180375dc11d4655af21e735a02c42c6'), 'white', {renderer: 'canvas'});\n        var option_3180375dc11d4655af21e735a02c42c6 = {\n    \"backgroundColor\": \"#fff\",\n    \"animation\": true,\n    \"animationThreshold\": 2000,\n    \"animationDuration\": 1000,\n    \"animationEasing\": \"cubicOut\",\n    \"animationDelay\": 0,\n    \"animationDurationUpdate\": 300,\n    \"animationEasingUpdate\": \"cubicOut\",\n    \"animationDelayUpdate\": 0,\n    \"color\": [\n        \"#c23531\",\n        \"#2f4554\",\n        \"#61a0a8\",\n        \"#d48265\",\n        \"#749f83\",\n        \"#ca8622\",\n        \"#bda29a\",\n        \"#6e7074\",\n        \"#546570\",\n        \"#c4ccd3\",\n        \"#f05b72\",\n        \"#ef5b9c\",\n        \"#f47920\",\n        \"#905a3d\",\n        \"#fab27b\",\n        \"#2a5caa\",\n        \"#444693\",\n        \"#726930\",\n        \"#b2d235\",\n        \"#6d8346\",\n        \"#ac6767\",\n        \"#1d953f\",\n        \"#6950a1\",\n        \"#918597\"\n    ],\n    \"series\": [\n        {\n            \"type\": \"pie\",\n            \"clockwise\": true,\n            \"data\": [\n                {\n                    \"name\": \"anger\",\n                    \"value\": 5.426649535182526\n                },\n                {\n                    \"name\": \"disgust\",\n                    \"value\": 7.588239740004535\n                },\n                {\n                    \"name\": \"happiness\",\n                    \"value\": 5.5022296122742045\n                },\n                {\n                    \"name\": \"like\",\n                    \"value\": 9.243443428312297\n                },\n                {\n                    \"name\": \"sadness\",\n                    \"value\": 6.33361046028267\n                },\n                {\n                    \"name\": \"fear\",\n                    \"value\": 0.8691708865543043\n                },\n                {\n                    \"name\": \"surprise\",\n                    \"value\": 2.3429823898420374\n                },\n                {\n                    \"name\": \"none\",\n                    \"value\": 62.693673947547424\n                }\n            ],\n            \"radius\": [\n                \"0%\",\n                \"75%\"\n            ],\n            \"center\": [\n                \"50%\",\n                \"50%\"\n            ],\n            \"label\": {\n                \"show\": true,\n                \"position\": \"top\",\n                \"margin\": 8,\n                \"formatter\": \"{b}: {c}%\"\n            },\n            \"rippleEffect\": {\n                \"show\": true,\n                \"brushType\": \"stroke\",\n                \"scale\": 2.5,\n                \"period\": 4\n            }\n        }\n    ],\n    \"legend\": [\n        {\n            \"data\": [\n                \"anger\",\n                \"disgust\",\n                \"happiness\",\n                \"like\",\n                \"sadness\",\n                \"fear\",\n                \"surprise\",\n                \"none\"\n            ],\n            \"selected\": {},\n            \"show\": true,\n            \"left\": \"10\",\n            \"top\": \"15%\",\n            \"orient\": \"vertical\",\n            \"padding\": 5,\n            \"itemGap\": 10,\n            \"itemWidth\": 25,\n            \"itemHeight\": 14,\n            \"textStyle\": {\n                \"color\": \"black\"\n            }\n        }\n    ],\n    \"tooltip\": {\n        \"show\": true,\n        \"trigger\": \"item\",\n        \"triggerOn\": \"mousemove|click\",\n        \"axisPointer\": {\n            \"type\": \"line\"\n        },\n        \"showContent\": true,\n        \"alwaysShowContent\": false,\n        \"showDelay\": 0,\n        \"hideDelay\": 100,\n        \"textStyle\": {\n            \"fontSize\": 14\n        },\n        \"borderWidth\": 0,\n        \"padding\": 5\n    },\n    \"title\": [\n        {\n            \"text\": \"simplifyweibo_8_moods\",\n            \"left\": \"10\",\n            \"top\": \"10\",\n            \"padding\": 5,\n            \"itemGap\": 10,\n            \"textStyle\": {\n                \"color\": \"#000\",\n                \"fontSize\": 28\n            }\n        }\n    ]\n};\n        chart_3180375dc11d4655af21e735a02c42c6.setOption(option_3180375dc11d4655af21e735a02c42c6);\n            window.addEventListener('resize', function(){\n                chart_3180375dc11d4655af21e735a02c42c6.resize();\n            })\n    </script>\n</body>\n</html>\n"
     },
     "execution_count": 24,
     "metadata": {},
     "output_type": "execute_result"
    }
   ],
   "source": [
    "html2 = load_dataset(\"simplifyweibo_8_moods.txt\",\n",
    "                     ['anger', 'disgust', 'happiness', 'like', 'sadness', 'fear', 'surprise', 'none'],\n",
    "                     \"simplifyweibo_8_moods\")\n",
    "HTML(html2)"
   ]
  },
  {
   "cell_type": "markdown",
   "metadata": {
    "pycharm": {
     "name": "#%% md\n"
    }
   },
   "source": [
    "### 🧐Nlpcc2014Train 八分类多情感分析\n",
    "\n",
    "Nlpcc2014八分类情感分类数据集，详细带None，包含2013Nlpcc数据\n",
    "- 数据条目：48875条\n",
    "- 文件名称：Nlpcc2014Train.txt\n",
    "- 文件大小：4.12MB\n",
    "- 来源：Nlpcc\n",
    "\n",
    "> happiness：3192<br>\n",
    "> disgust：3433<br>\n",
    "> like：4921<br>\n",
    "> fear：332<br>\n",
    "> sadness：2787<br>\n",
    "> anger：2138<br>\n",
    "> surprise：901<br>\n",
    "> none：31171<br>"
   ]
  },
  {
   "cell_type": "code",
   "execution_count": 25,
   "metadata": {
    "pycharm": {
     "name": "#%%\n"
    }
   },
   "outputs": [
    {
     "name": "stdout",
     "output_type": "stream",
     "text": [
      "anger：2138\n",
      "disgust：3433\n",
      "happiness：3192\n",
      "like：4921\n",
      "sadness：2787\n",
      "fear：332\n",
      "surprise：901\n",
      "none：31171\n",
      "total：48875\n",
      "########################################\n",
      "anger：4.3744%\n",
      "disgust：7.0240%\n",
      "happiness：6.5309%\n",
      "like：10.0685%\n",
      "sadness：5.7023%\n",
      "fear：0.6793%\n",
      "surprise：1.8435%\n",
      "none：63.7770%\n"
     ]
    },
    {
     "data": {
      "text/plain": "<IPython.core.display.HTML object>",
      "text/html": "<!DOCTYPE html>\n<html>\n<head>\n    <meta charset=\"UTF-8\">\n    <title>Awesome-pyecharts</title>\n            <script type=\"text/javascript\" src=\"https://assets.pyecharts.org/assets/echarts.min.js\"></script>\n\n</head>\n<body>\n    <div id=\"83fc9a4f74a3497f87bf7551123cc76c\" class=\"chart-container\" style=\"width:100%; height:600px;\"></div>\n    <script>\n        var chart_83fc9a4f74a3497f87bf7551123cc76c = echarts.init(\n            document.getElementById('83fc9a4f74a3497f87bf7551123cc76c'), 'white', {renderer: 'canvas'});\n        var option_83fc9a4f74a3497f87bf7551123cc76c = {\n    \"backgroundColor\": \"#fff\",\n    \"animation\": true,\n    \"animationThreshold\": 2000,\n    \"animationDuration\": 1000,\n    \"animationEasing\": \"cubicOut\",\n    \"animationDelay\": 0,\n    \"animationDurationUpdate\": 300,\n    \"animationEasingUpdate\": \"cubicOut\",\n    \"animationDelayUpdate\": 0,\n    \"color\": [\n        \"#c23531\",\n        \"#2f4554\",\n        \"#61a0a8\",\n        \"#d48265\",\n        \"#749f83\",\n        \"#ca8622\",\n        \"#bda29a\",\n        \"#6e7074\",\n        \"#546570\",\n        \"#c4ccd3\",\n        \"#f05b72\",\n        \"#ef5b9c\",\n        \"#f47920\",\n        \"#905a3d\",\n        \"#fab27b\",\n        \"#2a5caa\",\n        \"#444693\",\n        \"#726930\",\n        \"#b2d235\",\n        \"#6d8346\",\n        \"#ac6767\",\n        \"#1d953f\",\n        \"#6950a1\",\n        \"#918597\"\n    ],\n    \"series\": [\n        {\n            \"type\": \"pie\",\n            \"clockwise\": true,\n            \"data\": [\n                {\n                    \"name\": \"anger\",\n                    \"value\": 4.374424552429668\n                },\n                {\n                    \"name\": \"disgust\",\n                    \"value\": 7.0240409207161125\n                },\n                {\n                    \"name\": \"happiness\",\n                    \"value\": 6.530946291560102\n                },\n                {\n                    \"name\": \"like\",\n                    \"value\": 10.06854219948849\n                },\n                {\n                    \"name\": \"sadness\",\n                    \"value\": 5.7023017902813296\n                },\n                {\n                    \"name\": \"fear\",\n                    \"value\": 0.6792838874680307\n                },\n                {\n                    \"name\": \"surprise\",\n                    \"value\": 1.8434782608695652\n                },\n                {\n                    \"name\": \"none\",\n                    \"value\": 63.776982097186696\n                }\n            ],\n            \"radius\": [\n                \"0%\",\n                \"75%\"\n            ],\n            \"center\": [\n                \"50%\",\n                \"50%\"\n            ],\n            \"label\": {\n                \"show\": true,\n                \"position\": \"top\",\n                \"margin\": 8,\n                \"formatter\": \"{b}: {c}%\"\n            },\n            \"rippleEffect\": {\n                \"show\": true,\n                \"brushType\": \"stroke\",\n                \"scale\": 2.5,\n                \"period\": 4\n            }\n        }\n    ],\n    \"legend\": [\n        {\n            \"data\": [\n                \"anger\",\n                \"disgust\",\n                \"happiness\",\n                \"like\",\n                \"sadness\",\n                \"fear\",\n                \"surprise\",\n                \"none\"\n            ],\n            \"selected\": {},\n            \"show\": true,\n            \"left\": \"10\",\n            \"top\": \"15%\",\n            \"orient\": \"vertical\",\n            \"padding\": 5,\n            \"itemGap\": 10,\n            \"itemWidth\": 25,\n            \"itemHeight\": 14,\n            \"textStyle\": {\n                \"color\": \"black\"\n            }\n        }\n    ],\n    \"tooltip\": {\n        \"show\": true,\n        \"trigger\": \"item\",\n        \"triggerOn\": \"mousemove|click\",\n        \"axisPointer\": {\n            \"type\": \"line\"\n        },\n        \"showContent\": true,\n        \"alwaysShowContent\": false,\n        \"showDelay\": 0,\n        \"hideDelay\": 100,\n        \"textStyle\": {\n            \"fontSize\": 14\n        },\n        \"borderWidth\": 0,\n        \"padding\": 5\n    },\n    \"title\": [\n        {\n            \"text\": \"Nlpcc2014Train\",\n            \"left\": \"10\",\n            \"top\": \"10\",\n            \"padding\": 5,\n            \"itemGap\": 10,\n            \"textStyle\": {\n                \"color\": \"#000\",\n                \"fontSize\": 28\n            }\n        }\n    ]\n};\n        chart_83fc9a4f74a3497f87bf7551123cc76c.setOption(option_83fc9a4f74a3497f87bf7551123cc76c);\n            window.addEventListener('resize', function(){\n                chart_83fc9a4f74a3497f87bf7551123cc76c.resize();\n            })\n    </script>\n</body>\n</html>\n"
     },
     "execution_count": 25,
     "metadata": {},
     "output_type": "execute_result"
    }
   ],
   "source": [
    "html3 = load_dataset(\"Nlpcc2014Train.txt\",\n",
    "                     ['anger', 'disgust', 'happiness', 'like', 'sadness', 'fear', 'surprise', 'none'],\n",
    "                     \"Nlpcc2014Train\")\n",
    "HTML(html3)"
   ]
  },
  {
   "cell_type": "markdown",
   "source": [],
   "metadata": {
    "collapsed": false,
    "pycharm": {
     "name": "#%% md\n"
    }
   }
  },
  {
   "cell_type": "code",
   "source": [
    "html4 = load_dataset(\"simplifyweibo_5_moods.txt\",\n",
    "                     ['anger', 'disgust', 'happiness', 'like', 'sadness'],\n",
    "                     \"simplifyweibo_5_moods\")\n",
    "HTML(html4)"
   ],
   "metadata": {
    "collapsed": false,
    "pycharm": {
     "name": "#%%\n"
    }
   },
   "execution_count": 26,
   "outputs": [
    {
     "name": "stdout",
     "output_type": "stream",
     "text": [
      "anger：1860\n",
      "disgust：3073\n",
      "happiness：2872\n",
      "like：4106\n",
      "sadness：2395\n",
      "total：14306\n",
      "########################################\n",
      "anger：13.0015%\n",
      "disgust：21.4805%\n",
      "happiness：20.0755%\n",
      "like：28.7012%\n",
      "sadness：16.7412%\n"
     ]
    },
    {
     "data": {
      "text/plain": "<IPython.core.display.HTML object>",
      "text/html": "<!DOCTYPE html>\n<html>\n<head>\n    <meta charset=\"UTF-8\">\n    <title>Awesome-pyecharts</title>\n            <script type=\"text/javascript\" src=\"https://assets.pyecharts.org/assets/echarts.min.js\"></script>\n\n</head>\n<body>\n    <div id=\"e4df8b1dc41d46519c58329443389a1f\" class=\"chart-container\" style=\"width:100%; height:600px;\"></div>\n    <script>\n        var chart_e4df8b1dc41d46519c58329443389a1f = echarts.init(\n            document.getElementById('e4df8b1dc41d46519c58329443389a1f'), 'white', {renderer: 'canvas'});\n        var option_e4df8b1dc41d46519c58329443389a1f = {\n    \"backgroundColor\": \"#fff\",\n    \"animation\": true,\n    \"animationThreshold\": 2000,\n    \"animationDuration\": 1000,\n    \"animationEasing\": \"cubicOut\",\n    \"animationDelay\": 0,\n    \"animationDurationUpdate\": 300,\n    \"animationEasingUpdate\": \"cubicOut\",\n    \"animationDelayUpdate\": 0,\n    \"color\": [\n        \"#c23531\",\n        \"#2f4554\",\n        \"#61a0a8\",\n        \"#d48265\",\n        \"#749f83\",\n        \"#ca8622\",\n        \"#bda29a\",\n        \"#6e7074\",\n        \"#546570\",\n        \"#c4ccd3\",\n        \"#f05b72\",\n        \"#ef5b9c\",\n        \"#f47920\",\n        \"#905a3d\",\n        \"#fab27b\",\n        \"#2a5caa\",\n        \"#444693\",\n        \"#726930\",\n        \"#b2d235\",\n        \"#6d8346\",\n        \"#ac6767\",\n        \"#1d953f\",\n        \"#6950a1\",\n        \"#918597\"\n    ],\n    \"series\": [\n        {\n            \"type\": \"pie\",\n            \"clockwise\": true,\n            \"data\": [\n                {\n                    \"name\": \"anger\",\n                    \"value\": 13.001537816300853\n                },\n                {\n                    \"name\": \"disgust\",\n                    \"value\": 21.48049769327555\n                },\n                {\n                    \"name\": \"happiness\",\n                    \"value\": 20.07549280022368\n                },\n                {\n                    \"name\": \"like\",\n                    \"value\": 28.701244233188874\n                },\n                {\n                    \"name\": \"sadness\",\n                    \"value\": 16.741227457011043\n                }\n            ],\n            \"radius\": [\n                \"0%\",\n                \"75%\"\n            ],\n            \"center\": [\n                \"50%\",\n                \"50%\"\n            ],\n            \"label\": {\n                \"show\": true,\n                \"position\": \"top\",\n                \"margin\": 8,\n                \"formatter\": \"{b}: {c}%\"\n            },\n            \"rippleEffect\": {\n                \"show\": true,\n                \"brushType\": \"stroke\",\n                \"scale\": 2.5,\n                \"period\": 4\n            }\n        }\n    ],\n    \"legend\": [\n        {\n            \"data\": [\n                \"anger\",\n                \"disgust\",\n                \"happiness\",\n                \"like\",\n                \"sadness\"\n            ],\n            \"selected\": {},\n            \"show\": true,\n            \"left\": \"10\",\n            \"top\": \"15%\",\n            \"orient\": \"vertical\",\n            \"padding\": 5,\n            \"itemGap\": 10,\n            \"itemWidth\": 25,\n            \"itemHeight\": 14,\n            \"textStyle\": {\n                \"color\": \"black\"\n            }\n        }\n    ],\n    \"tooltip\": {\n        \"show\": true,\n        \"trigger\": \"item\",\n        \"triggerOn\": \"mousemove|click\",\n        \"axisPointer\": {\n            \"type\": \"line\"\n        },\n        \"showContent\": true,\n        \"alwaysShowContent\": false,\n        \"showDelay\": 0,\n        \"hideDelay\": 100,\n        \"textStyle\": {\n            \"fontSize\": 14\n        },\n        \"borderWidth\": 0,\n        \"padding\": 5\n    },\n    \"title\": [\n        {\n            \"text\": \"simplifyweibo_5_moods\",\n            \"left\": \"10\",\n            \"top\": \"10\",\n            \"padding\": 5,\n            \"itemGap\": 10,\n            \"textStyle\": {\n                \"color\": \"#000\",\n                \"fontSize\": 28\n            }\n        }\n    ]\n};\n        chart_e4df8b1dc41d46519c58329443389a1f.setOption(option_e4df8b1dc41d46519c58329443389a1f);\n            window.addEventListener('resize', function(){\n                chart_e4df8b1dc41d46519c58329443389a1f.resize();\n            })\n    </script>\n</body>\n</html>\n"
     },
     "execution_count": 26,
     "metadata": {},
     "output_type": "execute_result"
    }
   ]
  },
  {
   "cell_type": "markdown",
   "source": [],
   "metadata": {
    "collapsed": false,
    "pycharm": {
     "name": "#%% md\n"
    }
   }
  },
  {
   "cell_type": "code",
   "execution_count": 27,
   "outputs": [
    {
     "name": "stdout",
     "output_type": "stream",
     "text": [
      "anger：6422\n",
      "disgust：8149\n",
      "happiness：12802\n",
      "like：8947\n",
      "sadness：16466\n",
      "fear：952\n",
      "surprise：1817\n",
      "none：28236\n",
      "total：83791\n",
      "########################################\n",
      "anger：7.6643%\n",
      "disgust：9.7254%\n",
      "happiness：15.2785%\n",
      "like：10.6778%\n",
      "sadness：19.6513%\n",
      "fear：1.1362%\n",
      "surprise：2.1685%\n",
      "none：33.6981%\n"
     ]
    },
    {
     "data": {
      "text/plain": "<IPython.core.display.HTML object>",
      "text/html": "<!DOCTYPE html>\n<html>\n<head>\n    <meta charset=\"UTF-8\">\n    <title>Awesome-pyecharts</title>\n            <script type=\"text/javascript\" src=\"https://assets.pyecharts.org/assets/echarts.min.js\"></script>\n\n</head>\n<body>\n    <div id=\"73906df233dd49bb859a00251fb47e37\" class=\"chart-container\" style=\"width:100%; height:600px;\"></div>\n    <script>\n        var chart_73906df233dd49bb859a00251fb47e37 = echarts.init(\n            document.getElementById('73906df233dd49bb859a00251fb47e37'), 'white', {renderer: 'canvas'});\n        var option_73906df233dd49bb859a00251fb47e37 = {\n    \"backgroundColor\": \"#fff\",\n    \"animation\": true,\n    \"animationThreshold\": 2000,\n    \"animationDuration\": 1000,\n    \"animationEasing\": \"cubicOut\",\n    \"animationDelay\": 0,\n    \"animationDurationUpdate\": 300,\n    \"animationEasingUpdate\": \"cubicOut\",\n    \"animationDelayUpdate\": 0,\n    \"color\": [\n        \"#c23531\",\n        \"#2f4554\",\n        \"#61a0a8\",\n        \"#d48265\",\n        \"#749f83\",\n        \"#ca8622\",\n        \"#bda29a\",\n        \"#6e7074\",\n        \"#546570\",\n        \"#c4ccd3\",\n        \"#f05b72\",\n        \"#ef5b9c\",\n        \"#f47920\",\n        \"#905a3d\",\n        \"#fab27b\",\n        \"#2a5caa\",\n        \"#444693\",\n        \"#726930\",\n        \"#b2d235\",\n        \"#6d8346\",\n        \"#ac6767\",\n        \"#1d953f\",\n        \"#6950a1\",\n        \"#918597\"\n    ],\n    \"series\": [\n        {\n            \"type\": \"pie\",\n            \"clockwise\": true,\n            \"data\": [\n                {\n                    \"name\": \"anger\",\n                    \"value\": 7.664307622537027\n                },\n                {\n                    \"name\": \"disgust\",\n                    \"value\": 9.725388168180354\n                },\n                {\n                    \"name\": \"happiness\",\n                    \"value\": 15.27849053000919\n                },\n                {\n                    \"name\": \"like\",\n                    \"value\": 10.677757754412765\n                },\n                {\n                    \"name\": \"sadness\",\n                    \"value\": 19.651275196620162\n                },\n                {\n                    \"name\": \"fear\",\n                    \"value\": 1.136160208136912\n                },\n                {\n                    \"name\": \"surprise\",\n                    \"value\": 2.1684906493537492\n                },\n                {\n                    \"name\": \"none\",\n                    \"value\": 33.698129870749845\n                }\n            ],\n            \"radius\": [\n                \"0%\",\n                \"75%\"\n            ],\n            \"center\": [\n                \"50%\",\n                \"50%\"\n            ],\n            \"label\": {\n                \"show\": true,\n                \"position\": \"top\",\n                \"margin\": 8,\n                \"formatter\": \"{b}: {c}%\"\n            },\n            \"rippleEffect\": {\n                \"show\": true,\n                \"brushType\": \"stroke\",\n                \"scale\": 2.5,\n                \"period\": 4\n            }\n        }\n    ],\n    \"legend\": [\n        {\n            \"data\": [\n                \"anger\",\n                \"disgust\",\n                \"happiness\",\n                \"like\",\n                \"sadness\",\n                \"fear\",\n                \"surprise\",\n                \"none\"\n            ],\n            \"selected\": {},\n            \"show\": true,\n            \"left\": \"10\",\n            \"top\": \"15%\",\n            \"orient\": \"vertical\",\n            \"padding\": 5,\n            \"itemGap\": 10,\n            \"itemWidth\": 25,\n            \"itemHeight\": 14,\n            \"textStyle\": {\n                \"color\": \"black\"\n            }\n        }\n    ],\n    \"tooltip\": {\n        \"show\": true,\n        \"trigger\": \"item\",\n        \"triggerOn\": \"mousemove|click\",\n        \"axisPointer\": {\n            \"type\": \"line\"\n        },\n        \"showContent\": true,\n        \"alwaysShowContent\": false,\n        \"showDelay\": 0,\n        \"hideDelay\": 100,\n        \"textStyle\": {\n            \"fontSize\": 14\n        },\n        \"borderWidth\": 0,\n        \"padding\": 5\n    },\n    \"title\": [\n        {\n            \"text\": \"weibo82813_8_classify\",\n            \"left\": \"10\",\n            \"top\": \"10\",\n            \"padding\": 5,\n            \"itemGap\": 10,\n            \"textStyle\": {\n                \"color\": \"#000\",\n                \"fontSize\": 28\n            }\n        }\n    ]\n};\n        chart_73906df233dd49bb859a00251fb47e37.setOption(option_73906df233dd49bb859a00251fb47e37);\n            window.addEventListener('resize', function(){\n                chart_73906df233dd49bb859a00251fb47e37.resize();\n            })\n    </script>\n</body>\n</html>\n"
     },
     "execution_count": 27,
     "metadata": {},
     "output_type": "execute_result"
    }
   ],
   "source": [
    "html = load_dataset(\"weibo82813_8_classify.txt\",\n",
    "                     ['anger', 'disgust', 'happiness', 'like', 'sadness', 'fear', 'surprise', 'none'],\n",
    "                     \"weibo82813_8_classify\")\n",
    "HTML(html)"
   ],
   "metadata": {
    "collapsed": false,
    "pycharm": {
     "name": "#%%\n"
    }
   }
  },
  {
   "cell_type": "code",
   "execution_count": 27,
   "outputs": [],
   "source": [],
   "metadata": {
    "collapsed": false,
    "pycharm": {
     "name": "#%%\n"
    }
   }
  }
 ],
 "metadata": {
  "kernelspec": {
   "display_name": "Python 3 (ipykernel)",
   "language": "python",
   "name": "python3"
  },
  "language_info": {
   "codemirror_mode": {
    "name": "ipython",
    "version": 3
   },
   "file_extension": ".py",
   "mimetype": "text/x-python",
   "name": "python",
   "nbconvert_exporter": "python",
   "pygments_lexer": "ipython3",
   "version": "3.9.6"
  },
  "toc": {
   "base_numbering": 1,
   "nav_menu": {},
   "number_sections": true,
   "sideBar": true,
   "skip_h1_title": false,
   "title_cell": "Table of Contents",
   "title_sidebar": "Contents",
   "toc_cell": false,
   "toc_position": {},
   "toc_section_display": true,
   "toc_window_display": true
  }
 },
 "nbformat": 4,
 "nbformat_minor": 1
}