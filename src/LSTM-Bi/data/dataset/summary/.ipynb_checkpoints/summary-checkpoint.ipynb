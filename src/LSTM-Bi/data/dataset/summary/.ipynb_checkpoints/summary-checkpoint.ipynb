{
 "cells": [
  {
   "cell_type": "code",
   "execution_count": null,
   "metadata": {
    "pycharm": {
     "name": "#%%\n"
    }
   },
   "outputs": [],
   "source": [
    "from pyecharts import options as opts\n",
    "from pyecharts.charts import Pie\n",
    "from IPython.display import HTML\n",
    "\n",
    "def load_dataset(file_name:str, mood_list:list, dataset_name):\n",
    "    mood_values = []\n",
    "    dataset = {}\n",
    "    total = 0\n",
    "\n",
    "    for mood in mood_list:\n",
    "        dataset[mood] = []\n",
    "\n",
    "    with open(file_name, encoding='UTF-8') as f:\n",
    "        for line in f.readlines():\n",
    "            items = line.split(':', 1)\n",
    "            dataset[items[0]].append(items[1])\n",
    "            total += 1\n",
    "        f.close()\n",
    "\n",
    "    for mood in mood_list:\n",
    "        print('{}：{}'.format(mood, len(dataset[mood])))\n",
    "\n",
    "    print('total：{}'.format(total))\n",
    "    print('#' * 40)\n",
    "\n",
    "    for mood in mood_list:\n",
    "        mood_values.append(100 * (len(dataset[mood]) / total))\n",
    "        print('{}：{:.4f}%'.format(mood, 100 * (len(dataset[mood]) / total)))\n",
    "\n",
    "    pie = Pie(init_opts=opts.InitOpts(width=\"100%\", height=\"600px\", bg_color=\"#2c343c\"))\\\n",
    "        .add(\"\", [list(z) for z in zip(mood_list, mood_values)])\\\n",
    "        .set_global_opts(\n",
    "        title_opts=opts.TitleOpts(\n",
    "            title=dataset_name,\n",
    "            pos_top=\"10\",\n",
    "            pos_left=\"10\",\n",
    "            title_textstyle_opts=opts.TextStyleOpts(color=\"#fff\", font_size=28)),\n",
    "        legend_opts=opts.LegendOpts(pos_top=\"15%\", pos_left=\"10\", orient=\"vertical\", textstyle_opts={\"color\":\"white\"}))\\\n",
    "        .set_series_opts(label_opts=opts.LabelOpts(formatter=\"{b}: {c}%\"))\n",
    "\n",
    "    HTML(pie.render_embed())"
   ]
  },
  {
   "cell_type": "markdown",
   "metadata": {
    "pycharm": {
     "name": "#%% md\n"
    }
   },
   "source": [
    "### 🤩Weibo Emotion Corpus 七分类多情感分析\n",
    "\n",
    "2016 The Hong Kong Polytechnic University\t微博语料，标注了7 emotions: like, disgust, happiness, sadness, anger, surprise, fear。\n",
    "- 数据条目：39661条\n",
    "- 论文地址：http://www.lrec-conf.org/proceedings/lrec2016/pdf/515_Paper.pdf\n",
    "- 数据地址：https://github.com/hehuihui1994/emotion_corpus_weibo/blob/master/emotion_corpus_microblog.txt\n",
    "- 文件名称：emotion_corpus_microblog.txt\n",
    "- 文件大小：5.50MB\n",
    "- 来源：香港理工大学\n",
    "\n",
    "> happiness: 9959<br>\n",
    "> disgust: 4876<br>\n",
    "> like: 4540<br>\n",
    "> fear: 661<br>\n",
    "> sadness: 14052<br>\n",
    "> anger: 4562<br>\n",
    "> surprise: 1011<br>"
   ]
  },
  {
   "cell_type": "code",
   "execution_count": null,
   "metadata": {
    "pycharm": {
     "name": "#%%\n"
    }
   },
   "outputs": [],
   "source": [
    "load_dataset(\"emotion_corpus_microblog.txt\",\n",
    "             ['anger', 'disgust', 'happiness', 'like', 'sadness', 'fear', 'surprise'],\n",
    "             \"Weibo Emotion Corpus\")"
   ]
  },
  {
   "cell_type": "markdown",
   "metadata": {},
   "source": [
    "### 🧐simplifyweibo_8_moods 八分类多情感分析\n",
    "\n",
    "八分类情感分类数据集，详细带None\n",
    "- 数据条目：26462条数据\n",
    "- 文件名称：simplifyweibo_8_moods.txt\n",
    "- 文件大小：2.20MB\n",
    "- 来源：CSDN\n",
    "\n",
    "> happiness：1456<br>\n",
    "> disgust：2008<br>\n",
    "> like：2446<br>\n",
    "> fear：230<br>\n",
    "> sadness：1676<br>\n",
    "> anger：1436<br>\n",
    "> surprise：620<br>\n",
    "> none：16590<br>"
   ]
  },
  {
   "cell_type": "code",
   "execution_count": null,
   "metadata": {
    "pycharm": {
     "name": "#%%\n"
    }
   },
   "outputs": [],
   "source": [
    "load_dataset(\"simplifyweibo_8_moods.txt\",\n",
    "             ['anger', 'disgust', 'happiness', 'like', 'sadness', 'fear', 'surprise', 'none'],\n",
    "             \"simplifyweibo_8_moods\")"
   ]
  },
  {
   "cell_type": "markdown",
   "metadata": {},
   "source": [
    "### 🧐Nlpcc2014Train 八分类多情感分析\n",
    "\n",
    "Nlpcc2014八分类情感分类数据集，详细带None，包含2013Nlpcc数据\n",
    "- 数据条目：48875条\n",
    "- 文件名称：Nlpcc2014Train.txt\n",
    "- 文件大小：4.12MB\n",
    "- 来源：Nlpcc\n",
    "\n",
    "> happiness：3192<br>\n",
    "> disgust：3433<br>\n",
    "> like：4921<br>\n",
    "> fear：332<br>\n",
    "> sadness：2787<br>\n",
    "> anger：2138<br>\n",
    "> surprise：901<br>\n",
    "> none：31171<br>"
   ]
  },
  {
   "cell_type": "code",
   "execution_count": null,
   "metadata": {
    "pycharm": {
     "name": "#%%\n"
    }
   },
   "outputs": [],
   "source": [
    "load_dataset(\"Nlpcc2014Train.txt\",\n",
    "             ['anger', 'disgust', 'happiness', 'like', 'sadness', 'fear', 'surprise', 'none'],\n",
    "             \"Nlpcc2014Train\")"
   ]
  }
 ],
 "metadata": {
  "kernelspec": {
   "display_name": "Python 3 (ipykernel)",
   "language": "python",
   "name": "python3"
  },
  "language_info": {
   "codemirror_mode": {
    "name": "ipython",
    "version": 3
   },
   "file_extension": ".py",
   "mimetype": "text/x-python",
   "name": "python",
   "nbconvert_exporter": "python",
   "pygments_lexer": "ipython3",
   "version": "3.9.6"
  },
  "toc": {
   "base_numbering": 1,
   "nav_menu": {},
   "number_sections": true,
   "sideBar": true,
   "skip_h1_title": false,
   "title_cell": "Table of Contents",
   "title_sidebar": "Contents",
   "toc_cell": false,
   "toc_position": {},
   "toc_section_display": true,
   "toc_window_display": true
  }
 },
 "nbformat": 4,
 "nbformat_minor": 1
}
